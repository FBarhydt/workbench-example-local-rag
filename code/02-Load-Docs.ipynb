{
 "cells": [
  {
   "cell_type": "markdown",
   "id": "2a74231c-df99-461f-8cdc-ea17f808d717",
   "metadata": {},
   "source": [
    "# Index Documents\n",
    "To chat with your data, you have to first index your documents. \n",
    "\n",
    "Place files in the `data/documents` directory of this project or create host mounts into `/mnt/docs/` using AI Workbench. You can mount multiple directories into `/mnt/docs/` and they will all be indexed. Text files and PDFs work well.\n",
    "\n",
    "When you run the cell below documents will be hashed and processed. Documents that have already been processed will be skipped. Note, this process can a while.\n",
    "\n",
    "**Any time you add more documents or you want to refresh the index, you should come back and run this cell**"
   ]
  },
  {
   "cell_type": "code",
   "execution_count": 1,
   "id": "1cb4582d-ddcc-47e5-b45c-7ec24bada8d8",
   "metadata": {},
   "outputs": [
    {
     "data": {
      "application/vnd.jupyter.widget-view+json": {
       "model_id": "8113e6af3a874bdfa9367e8200a04044",
       "version_major": 2,
       "version_minor": 0
      },
      "text/plain": [
       "  0%|          | 0/15 [00:00<?, ?it/s]"
      ]
     },
     "metadata": {},
     "output_type": "display_data"
    },
    {
     "name": "stdout",
     "output_type": "stream",
     "text": [
      "../data/documents/latitude-5x40-spec-sheet.pdf - failed: HTTPConnectionPool(host='localhost', port=8000): Max retries exceeded with url: /uploadDocument (Caused by NewConnectionError('<urllib3.connection.HTTPConnection object at 0x7f3bf2752d30>: Failed to establish a new connection: [Errno 111] Connection refused'))\n",
      "../data/documents/Fixed Precision 7960 Tower Spec Sheet.pdf - failed: HTTPConnectionPool(host='localhost', port=8000): Max retries exceeded with url: /uploadDocument (Caused by NewConnectionError('<urllib3.connection.HTTPConnection object at 0x7f3bf1f01640>: Failed to establish a new connection: [Errno 111] Connection refused'))\n",
      "../data/documents/latitude-5340-technical-guidebook.pdf - failed: HTTPConnectionPool(host='localhost', port=8000): Max retries exceeded with url: /uploadDocument (Caused by NewConnectionError('<urllib3.connection.HTTPConnection object at 0x7f3bf1f01f10>: Failed to establish a new connection: [Errno 111] Connection refused'))\n",
      "../data/documents/Fixed Precision 5860 Spec Sheet.pdf - failed: HTTPConnectionPool(host='localhost', port=8000): Max retries exceeded with url: /uploadDocument (Caused by NewConnectionError('<urllib3.connection.HTTPConnection object at 0x7f3bf1f0d8b0>: Failed to establish a new connection: [Errno 111] Connection refused'))\n",
      "../data/documents/latitude-7x40-spec-sheet.pdf - failed: HTTPConnectionPool(host='localhost', port=8000): Max retries exceeded with url: /uploadDocument (Caused by NewConnectionError('<urllib3.connection.HTTPConnection object at 0x7f3bf2752dc0>: Failed to establish a new connection: [Errno 111] Connection refused'))\n",
      "../data/documents/latitude-5440-technical-guidebook.pdf - failed: HTTPConnectionPool(host='localhost', port=8000): Max retries exceeded with url: /uploadDocument (Caused by NewConnectionError('<urllib3.connection.HTTPConnection object at 0x7f3bf1f0d850>: Failed to establish a new connection: [Errno 111] Connection refused'))\n",
      "../data/documents/latitude-5430-rugged-spec-sheet.pdf - failed: HTTPConnectionPool(host='localhost', port=8000): Max retries exceeded with url: /uploadDocument (Caused by NewConnectionError('<urllib3.connection.HTTPConnection object at 0x7f3bf1f01070>: Failed to establish a new connection: [Errno 111] Connection refused'))\n",
      "../data/documents/latitude-3440-thin-client-solution-ccw-spec-sheet.pdf - failed: HTTPConnectionPool(host='localhost', port=8000): Max retries exceeded with url: /uploadDocument (Caused by NewConnectionError('<urllib3.connection.HTTPConnection object at 0x7f3bf1f01940>: Failed to establish a new connection: [Errno 111] Connection refused'))\n",
      "../data/documents/latitude-3x40-spec-sheet.pdf - failed: HTTPConnectionPool(host='localhost', port=8000): Max retries exceeded with url: /uploadDocument (Caused by NewConnectionError('<urllib3.connection.HTTPConnection object at 0x7f3bf1f15250>: Failed to establish a new connection: [Errno 111] Connection refused'))\n",
      "../data/documents/latitude-5430-rugged-technical-guide-book (1).pdf - failed: HTTPConnectionPool(host='localhost', port=8000): Max retries exceeded with url: /uploadDocument (Caused by NewConnectionError('<urllib3.connection.HTTPConnection object at 0x7f3bf1f15bb0>: Failed to establish a new connection: [Errno 111] Connection refused'))\n",
      "../data/documents/latitude-5440-thin-client-solution-ccw-spec-sheet.pdf - failed: HTTPConnectionPool(host='localhost', port=8000): Max retries exceeded with url: /uploadDocument (Caused by NewConnectionError('<urllib3.connection.HTTPConnection object at 0x7f3bf1f0d730>: Failed to establish a new connection: [Errno 111] Connection refused'))\n",
      "../data/documents/Fixed Precision Rack 7960 Spec Sheet.pdf - failed: HTTPConnectionPool(host='localhost', port=8000): Max retries exceeded with url: /uploadDocument (Caused by NewConnectionError('<urllib3.connection.HTTPConnection object at 0x7f3bf1f0dd60>: Failed to establish a new connection: [Errno 111] Connection refused'))\n",
      "../data/documents/Dell_Commercial_Monitors_EN.pdf - failed: HTTPConnectionPool(host='localhost', port=8000): Max retries exceeded with url: /uploadDocument (Caused by NewConnectionError('<urllib3.connection.HTTPConnection object at 0x7f3bf1f151c0>: Failed to establish a new connection: [Errno 111] Connection refused'))\n"
     ]
    }
   ],
   "source": [
    "from helpers.docs import DocProcessor\n",
    "\n",
    "p = DocProcessor(\"../data/documents\", \"/mnt/docs\", \"http://localhost:8000/uploadDocument\", False)\n",
    "p.process()            "
   ]
  },
  {
   "cell_type": "code",
   "execution_count": null,
   "id": "9de97c76-b528-4150-a89e-7f7951ad5545",
   "metadata": {},
   "outputs": [],
   "source": []
  }
 ],
 "metadata": {
  "kernelspec": {
   "display_name": "Python 3 (ipykernel)",
   "language": "python",
   "name": "python3"
  },
  "language_info": {
   "codemirror_mode": {
    "name": "ipython",
    "version": 3
   },
   "file_extension": ".py",
   "mimetype": "text/x-python",
   "name": "python",
   "nbconvert_exporter": "python",
   "pygments_lexer": "ipython3",
   "version": "3.9.18"
  }
 },
 "nbformat": 4,
 "nbformat_minor": 5
}
